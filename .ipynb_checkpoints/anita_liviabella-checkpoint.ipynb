{
 "cells": [
  {
   "cell_type": "markdown",
   "id": "b3962700-1f5d-429f-9607-d4b30134cdf0",
   "metadata": {},
   "source": [
    "# My functions to implement:\n",
    "\n",
    "## Classes RelationalQueryProcessor and TriplestoreQueryProcessor\n",
    "Add the following method to both the classes:\n",
    "\n",
    "def is_publication_in_db(pub_id : str) : boolean\n",
    "It returns True if the publication identified by the input id is included in the dababase, False otherwise."
   ]
  },
  {
   "cell_type": "markdown",
   "id": "259c123e-8b53-40dc-81fc-8e71b8e11184",
   "metadata": {},
   "source": [
    "## Class RelationalQueryProcessor\n",
    "The is_publication_in_db function takes in input the publication identifier.\n",
    "First it checks if the type of the pub_id is a string. If it's true, it goes on opening a connection with the relational database and proceeds with the query.\n",
    "The query is selecting ids (in the \"id\" columns) from three different tables (`JournalArticleTable`, `BookChapterTable`, and `ProceedingsPaperTable`) using the UNION operator. \n",
    "The UNION operator is used to combine the results of multiple SELECT statements into a single result set.\n",
    "The function must return True whether the pub_id exists, otherwise it returns false."
   ]
  },
  {
   "cell_type": "code",
   "execution_count": null,
   "id": "9d3bed9d-7217-4e94-9c80-0391c11e53bc",
   "metadata": {},
   "outputs": [],
   "source": [
    "#Class RelationalQueryProcessor\n",
    "    def is_publication_in_db(self, pub_id):\n",
    "        if type(pub_id) == str:\n",
    "            with sql3.connect(self.getDbPath()) as qrdb:\n",
    "                cur = qrdb.cursor()\n",
    "                query = \"SELECT id FROM JournalArticleTable WHERE id = ? UNION SELECT id FROM BookChapterTable WHERE id = ? UNION SELECT id FROM ProceedingsPaperTable WHERE id = ?;\"\n",
    "        \n",
    "                cur.execute(query, (pub_id, pub_id, pub_id))\n",
    "                result = cur.fetchall()\n",
    "        \n",
    "                if result:\n",
    "                    return True\n",
    "                else:\n",
    "                    return False\n",
    "        else:\n",
    "            raise ValueError(\"The input parameter is not a string!\")\n",
    "            \n",
    "#Testing\n",
    "#query_anita = z.is_publication_in_db(\"doi:10.1162/qss_a_00112\")\n",
    "#print(\"is_publication_in_db Query\\n\", query_anita) --> Returns True\n",
    "\n",
    "#query_anita = z.is_publication_in_db(\"doi:10.1016/j.cirpj.2018.06.002\")\n",
    "#print(\"is_publication_in_db Query\\n\", query_anita) --> Returns False"
   ]
  },
  {
   "cell_type": "markdown",
   "id": "cba72581-a90b-42e8-9db0-8bf286933369",
   "metadata": {},
   "source": [
    "## Class TriplestoreQueryProcessor\n",
    "First of all, the function retrieves the endpoint URL for the triplestore by calling the getEndpointUrl() method. It checks if the provided DOI (doi) is a string. If not, it raises a ValueError.\n",
    "It constructs a SPARQL query using the provided DOI as a filter condition. The query selects the publication that has a type of fabio:Expression and an identifier matching the provided DOI.\n",
    "It returns True if the result of the query is not empty (indicating that the publication exists in the database), otherwise, it returns False."
   ]
  },
  {
   "cell_type": "code",
   "execution_count": null,
   "id": "3055e0ac-b230-4013-9d78-8f2522c23b0e",
   "metadata": {},
   "outputs": [],
   "source": [
    "#Class TriplestoreQueryProcessor\n",
    "    def is_publication_in_db(self, doi):\n",
    "        endpoint = self.getEndpointUrl()\n",
    "        # Check if pub_id is a string\n",
    "        if not isinstance(doi, str):\n",
    "                raise ValueError(\"pub_id must be a string\")\n",
    "\n",
    "        query = \"\"\"\n",
    "        PREFIX rdf: <http://www.w3.org/1999/02/22-rdf-syntax-ns#>\n",
    "        PREFIX schema: <https://schema.org/>\n",
    "        PREFIX fabio: <http://purl.org/spar/fabio/>\n",
    "\n",
    "        SELECT ?publication\n",
    "        WHERE {{\n",
    "            ?publication rdf:type fabio:Expression ;\n",
    "                     schema:identifier \"{pub_id}\".\n",
    "         }}\n",
    "         \"\"\"\n",
    "        result = get(endpoint, query.format(pub_id = doi), True)\n",
    "        return not result.empty\n",
    "    \n",
    "#Testing\n",
    "#Q_Anita = grp_qp.is_publication_in_db(\"doi:10.1007/s00521-020-05491-5\")\n",
    "#print(Q_Anita) #returns true\n",
    "\n",
    "#Q_Anita = grp_qp.is_publication_in_db(\"doi:10.1162/qss_a_00112\")\n",
    "#print(Q_Anita) #returns false"
   ]
  },
  {
   "cell_type": "markdown",
   "id": "b75a8e71-2974-4daa-b64a-af415233dc40",
   "metadata": {},
   "source": [
    "## Class GenericQueryProcessor\n",
    "def compute_h_index(author_id : str) : int\n",
    "It returns a non-negative integer that is the maximum value 'h' such that the author identified by the input id has published 'h' papers that have each been cited at least 'h' times.\n",
    "\n",
    "def remove_duplicates(l1 : list[Publication], l2 : list[Publication]) : list[Publication]\n",
    "It takes in input two different list of publications, and returns a new list that contains the union of the publication in both list (removing the duplicates)."
   ]
  },
  {
   "cell_type": "markdown",
   "id": "1ff190a3-04b9-40a0-a4b1-e5441cf19165",
   "metadata": {},
   "source": [
    "### compute_h_index\n",
    "In order to implement the compute_h_index method I've implement in both RelationalQueryProcessor and TriplestoreQueryProcessor classes the count_citation method:"
   ]
  },
  {
   "cell_type": "code",
   "execution_count": null,
   "id": "38057e17-7ba7-4648-a6eb-6a5981d78b6c",
   "metadata": {},
   "outputs": [],
   "source": [
    "#Class RelationalQueryProcessor\n",
    "    def count_citations(self, ref_doi):\n",
    "            with sql3.connect(self.getDbPath()) as qrdb:\n",
    "                cur = qrdb.cursor()\n",
    "                query = \"SELECT COUNT (*) FROM ReferencesTable WHERE ref_doi = ?\"\n",
    "                cur.execute(query, (ref_doi,))\n",
    "                num_cit = cur.fetchone()[0]\n",
    "                #[0]\n",
    "        \n",
    "            return num_cit\n",
    "#query_h = z.count_citations(\"doi:10.1162/qss_a_00023\")\n",
    "#print(\"count_citations Query\\n\", query_h)"
   ]
  },
  {
   "cell_type": "code",
   "execution_count": null,
   "id": "c8831875-e727-48f5-9526-118ceacf33c3",
   "metadata": {},
   "outputs": [],
   "source": [
    "#Class TripleStoreQueryProcessor\n",
    "    def count_citations(self, ref_doi):\n",
    "        endpoint = self.getEndpointUrl()\n",
    "        query = f\"\"\"\n",
    "        PREFIX schema: <https://schema.org/>\n",
    "\n",
    "        SELECT (COUNT(?publication) as ?numCitations)\n",
    "        WHERE {{ \n",
    "        ?publication schema:citation ?o.\n",
    "        FILTER (regex (str(?o), \"{ref_doi}\", \"i\")) \n",
    "        }}\n",
    "\n",
    "        \"\"\"\n",
    "        result = get(endpoint, query, True)\n",
    "        num_citations = 0\n",
    "        if not result.empty and 'numCitations' in result.columns:\n",
    "            num_citations = int(result['numCitations'].iloc[0])\n",
    "\n",
    "        return num_citations\n",
    "#Q_index = grp_qp.count_citations(\"doi:10.1093/nar/gkz997\")\n",
    "#print(Q_index)"
   ]
  },
  {
   "cell_type": "markdown",
   "id": "b1564ea4-3977-4dfb-80f5-572c660e4589",
   "metadata": {},
   "source": [
    "This has been done in order to have a method to count the citations with a given doi.\n",
    "Then the compute_h_index method has been defined in the class GenericQueryProcessor.\n",
    "It's a method for computing the H-index of an author based on their publications and for retrieving the number of citations for a given publication ID. \n",
    "It first retrieves the publications associated with the given `author_id` using the `getPublicationsByAuthorId` method. Then, it collects the number of citations for each publication using the `get_citations` method and stores them in a list called `citations`. After sorting the list of citations in descending order, it iterates through the list to calculate the H-index based on the number of citations for each publication.\n",
    "The H-index is the highest number `h_index` such that at least `h_index` publications have `h_index` citations each.\n",
    "\n",
    "The get_citations method retrieves the number of citations for a given publication ID. It determines the type of the `publication_id` (e.g., if it starts with \"doi:\") and calls the appropriate query method from the available `queryProcessor`. If the `publication_id` starts with \"doi:\", it assumes that it's a Digital Object Identifier and attempts to find the number of citations using either a `RelationalQueryProcessor` or a `TriplestoreQueryProcessor`, depending on the type of processor available."
   ]
  },
  {
   "cell_type": "code",
   "execution_count": null,
   "id": "4c2c9c31-cae9-4e10-8861-5a606a698190",
   "metadata": {},
   "outputs": [],
   "source": [
    "#Class GenericQueryProcessor\n",
    "    def compute_h_index(self, author_id):\n",
    "        publications = self.getPublicationsByAuthorId(author_id)\n",
    "        citations = []\n",
    "        #print(\"publications:\", publications)\n",
    "\n",
    "        # Collect citations for each publication\n",
    "        for publication in publications:\n",
    "            citations.append(self.get_citations(publication.id))  # get_citations is a method to get citations of a publication\n",
    "\n",
    "        citations.sort(reverse=True)\n",
    "        h_index = 0\n",
    "        for i, citation in enumerate(citations):\n",
    "            if citation >= i + 1:\n",
    "                h_index += 1\n",
    "            else:\n",
    "                break\n",
    "\n",
    "        return h_index\n",
    "\n",
    "    def get_citations(self, publication_id):\n",
    "        # Determine the type of publication_id and call the appropriate query method\n",
    "        if publication_id.startswith(\"doi:\"):\n",
    "            for processor in self.queryProcessor:\n",
    "                if isinstance(processor, RelationalQueryProcessor):\n",
    "                    return processor.count_citations(publication_id)\n",
    "                elif isinstance(processor, TriplestoreQueryProcessor):\n",
    "                    return processor.count_citations(publication_id)\n",
    "        else:\n",
    "            # Handle other types of identifiers if necessary\n",
    "            pass\n",
    "\n",
    "#h_index = generic.compute_h_index(\"0000-0001-5506-523X\")\n",
    "#print(\"H-index for the author:\", h_index)\n",
    "#print('hello 2')"
   ]
  },
  {
   "cell_type": "markdown",
   "id": "1dcc8616-1b8a-49ff-ac65-d72db2390563",
   "metadata": {},
   "source": [
    "PROBLEMI: non parte perché probabilmente il probelma sta all'interno della query getPublicationsbyAuthorId."
   ]
  },
  {
   "cell_type": "markdown",
   "id": "adec147d-7fff-4051-a79a-69bb65195a45",
   "metadata": {},
   "source": [
    "### remove_duplicates\n",
    "The purpose of this method is to take two lists (`l1` and `l2`), combine them, and remove any duplicate elements. \n",
    "The method first combines the two input lists `l1` and `l2` into one list called `combined_list`. This is done by using the `+` operator which concatenates the lists.\n",
    "It then initializes an empty set called `seen_ids`. Sets in Python automatically remove duplicates. The method iterates through each element in `combined_list`, and adds it to the `seen_ids` set. Since sets do not allow duplicate elements, any duplicate elements in `combined_list` will be removed during this process.\n",
    "After all elements have been added to `seen_ids`, the method converts the set back to a list using `list()` function, creating a new list called `list_seen_ids`.\n",
    "Finally, the method returns the `list_seen_ids`, which contains only unique elements from the original two lists."
   ]
  },
  {
   "cell_type": "code",
   "execution_count": null,
   "id": "3f539a09-3ff3-4edc-9f66-3ea527a8a0de",
   "metadata": {},
   "outputs": [],
   "source": [
    "#Class GenericQueryProcessor\n",
    "    def remove_duplicates(self, l1, l2):\n",
    "        combined_list = l1 + l2  # Combine both lists\n",
    "        seen_ids = set()\n",
    "        for publication in combined_list:\n",
    "            seen_ids.add(publication)\n",
    "        \n",
    "        list_seen_ids = list(seen_ids)\n",
    "        return list_seen_ids\n",
    "    \n",
    "#remove_duplicates_method = generic.remove_duplicates(['doi:10.1162/qss_a_00023', 'doi:10.1038/sdata.2016.18'], ['doi:10.1007/s11192-020-03397-6', 'doi:10.1080/19386389.2021.1999156', 'doi:10.1038/sdata.2016.18'])\n",
    "#print(remove_duplicates_method)"
   ]
  },
  {
   "cell_type": "markdown",
   "id": "9f7b4315-eb6f-4d3a-b084-c2256eb9d9be",
   "metadata": {},
   "source": [
    "PROBLEMA: qui mi chiedo se io debba chiamare una query aggiuntiva per avere delle liste, essendo che comunque questo metodo deve funzionare all'intenro del generic.\n",
    "devo prendere i publication.id?"
   ]
  }
 ],
 "metadata": {
  "kernelspec": {
   "display_name": "Python 3 (ipykernel)",
   "language": "python",
   "name": "python3"
  },
  "language_info": {
   "codemirror_mode": {
    "name": "ipython",
    "version": 3
   },
   "file_extension": ".py",
   "mimetype": "text/x-python",
   "name": "python",
   "nbconvert_exporter": "python",
   "pygments_lexer": "ipython3",
   "version": "3.11.2"
  }
 },
 "nbformat": 4,
 "nbformat_minor": 5
}
